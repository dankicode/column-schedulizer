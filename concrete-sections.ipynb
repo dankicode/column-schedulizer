{
 "cells": [
  {
   "cell_type": "code",
   "execution_count": 171,
   "id": "8feb45e0-e277-481e-84d1-2027a18e2367",
   "metadata": {},
   "outputs": [],
   "source": [
    "# Import stress/strain profiles\n",
    "from concreteproperties.stress_strain_profile import (\n",
    "    ConcreteLinearNoTension, \n",
    "    RectangularStressBlock, \n",
    "    SteelElasticPlastic\n",
    ")\n",
    "\n",
    "## Import materials\n",
    "from concreteproperties.material import Concrete, SteelBar\n",
    "\n",
    "## Import geometry functions for creating rectangular sections\n",
    "from sectionproperties.pre.library.concrete_sections import concrete_rectangular_section\n",
    "from sectionproperties.pre.library.primitive_sections import rectangular_section\n",
    "from concreteproperties.pre import add_bar\n",
    "# from concreteproperties.pre import add_bar_rectangular_array\n",
    "\n",
    "## Import analysis section\n",
    "from concreteproperties.concrete_section import ConcreteSection"
   ]
  },
  {
   "cell_type": "markdown",
   "id": "fc2c38ac-608a-4ebf-97ce-04a17a53d895",
   "metadata": {},
   "source": [
    "# Define Concrete Material\n",
    "### All units in kips and inches"
   ]
  },
  {
   "cell_type": "code",
   "execution_count": 172,
   "id": "dec23e23-4f0a-4673-813a-a0a375210a0f",
   "metadata": {},
   "outputs": [],
   "source": [
    "wc = 0.15 # kcf\n",
    "fpc = 10 # ksi\n",
    "Ec = 33 * ((wc * 1000) ** 1.5) * ((fpc * 1000) ** 0.5) / 1000 # ksi\n",
    "# phi_bearing = 0.65\n",
    "eps_cu = 0.003"
   ]
  },
  {
   "cell_type": "code",
   "execution_count": 173,
   "id": "8d2e13dc-85ff-41d4-b003-7c4c70d1efdf",
   "metadata": {},
   "outputs": [
    {
     "name": "stdout",
     "output_type": "stream",
     "text": [
      "0.65\n"
     ]
    }
   ],
   "source": [
    "def calculate_beta_1(fpc: float) -> float:\n",
    "    \"\"\"\n",
    "    Calculate beta_1 in accordance with ACI 318-14 Table 22.2.2.4.3.\n",
    "\n",
    "    Args:\n",
    "    fpc: f'c in ksi\n",
    "    \"\"\"\n",
    "    if fpc >= 2.5 and fpc <= 4.0:\n",
    "        beta_1 = 0.85\n",
    "    elif fpc > 4.0 and fpc < 8.0:\n",
    "        beta_1 = 0.85 - (0.5 * (fpc - 4))\n",
    "    elif fpc >= 8.0:\n",
    "        beta_1 = 0.65\n",
    "    else:\n",
    "        print(\"f'c is less than 2.5ksi - assuming beta_1 = 0.85.\")\n",
    "        return 0.85\n",
    "    return beta_1\n",
    "beta_1 = calculate_beta_1(10.)\n",
    "print(beta_1)"
   ]
  },
  {
   "cell_type": "code",
   "execution_count": 174,
   "id": "999faa3e-d2bb-40ad-9727-d8c8cd3fe501",
   "metadata": {},
   "outputs": [],
   "source": [
    "def calc_modulus_of_rupture(fpc: float) -> float:\n",
    "    \"\"\"\n",
    "    Calculate modulus of rupture, f_r in accordance with ACI 318.\n",
    "\n",
    "    Args:\n",
    "    fpc: f'c in ksi\n",
    "    \"\"\"\n",
    "    fr = 7.5 * ((fpc * 1000) ** 0.5) / 1000 # ksi\n",
    "    return fr"
   ]
  },
  {
   "cell_type": "code",
   "execution_count": 175,
   "id": "766df48c-9771-4322-a1ea-826eb4c5d435",
   "metadata": {},
   "outputs": [
    {
     "data": {
      "text/plain": [
       "0.75"
      ]
     },
     "execution_count": 175,
     "metadata": {},
     "output_type": "execute_result"
    }
   ],
   "source": [
    "fr = calc_modulus_of_rupture(10)\n",
    "fr"
   ]
  },
  {
   "cell_type": "code",
   "execution_count": 176,
   "id": "904b71dc-27f4-4227-a443-26b14a7af12a",
   "metadata": {},
   "outputs": [],
   "source": [
    "# only takes compression and stress is linear\n",
    "concrete_service = ConcreteLinearNoTension(\n",
    "    elastic_modulus=Ec,\n",
    "    ultimate_strain=eps_cu,\n",
    "    compressive_strength=0.85*fpc\n",
    ")\n",
    "\n",
    "# Ultimate stress-strain profile\n",
    "beta_1 = calculate_beta_1(fpc)\n",
    "concrete_ultimate = RectangularStressBlock(\n",
    "    compressive_strength=fpc,\n",
    "    alpha=0.85,\n",
    "    gamma=beta_1,\n",
    "    ultimate_strain=eps_cu\n",
    "\n",
    ")\n",
    "\n",
    "# Define the concrete material\n",
    "concrete = Concrete(\n",
    "    name=f\"{fpc} ksi Concrete\",\n",
    "    density = wc / (12**3), # ksi\n",
    "    stress_strain_profile=concrete_service,\n",
    "    colour='lightgrey',\n",
    "    ultimate_stress_strain_profile=concrete_ultimate,\n",
    "    flexural_tensile_strength=fr\n",
    ")"
   ]
  },
  {
   "cell_type": "markdown",
   "id": "b67e0cb4-3479-46db-8e61-148c87718bf9",
   "metadata": {},
   "source": [
    "# Define Rebar Material"
   ]
  },
  {
   "cell_type": "code",
   "execution_count": 177,
   "id": "89cafcbe-a971-40ca-8326-31f2cdb0ad3f",
   "metadata": {},
   "outputs": [],
   "source": [
    "fy = 60 # ksi\n",
    "Es = 29000 # ksi\n",
    "eps_fracture = 0.2 # ACI doesn't define a fracture strain.. used judgement for now\n",
    "rebar_density = 0.490 # kcf"
   ]
  },
  {
   "cell_type": "code",
   "execution_count": 178,
   "id": "76104c9e-3ecf-4036-8598-a49eae1121ab",
   "metadata": {},
   "outputs": [],
   "source": [
    "# Rebar stress-strain profile\n",
    "steel_elastic_plastic = SteelElasticPlastic(\n",
    "    yield_strength=fy,\n",
    "    elastic_modulus=Es,\n",
    "    fracture_strain=eps_fracture\n",
    ")\n",
    "\n",
    "# Rebar material\n",
    "# SteelBar will lump the areas at their centroid\n",
    "steel = SteelBar(\n",
    "    name=f\"Grade {fy} Rebar\",\n",
    "    density=rebar_density / (12**3), # ksi\n",
    "    stress_strain_profile=steel_elastic_plastic,\n",
    "    colour=\"black\"\n",
    ")"
   ]
  },
  {
   "cell_type": "code",
   "execution_count": 179,
   "id": "a0a0b45e-2f44-4b3d-a437-f463de60b92b",
   "metadata": {},
   "outputs": [
    {
     "data": {
      "image/png": "[encoded data removed]",
      "text/plain": [
       "<Figure size 640x480 with 1 Axes>"
      ]
     },
     "metadata": {},
     "output_type": "display_data"
    },
    {
     "data": {
      "text/plain": [
       "<Axes: title={'center': 'Stress-Strain Profile'}, xlabel='Strain', ylabel='Stress'>"
      ]
     },
     "execution_count": 179,
     "metadata": {},
     "output_type": "execute_result"
    }
   ],
   "source": [
    "concrete_service.plot_stress_strain()"
   ]
  },
  {
   "cell_type": "code",
   "execution_count": 180,
   "id": "6cbc0611-947d-46e8-acc1-d9d198d9c564",
   "metadata": {},
   "outputs": [
    {
     "data": {
      "image/png": "[encoded data removed]",
      "text/plain": [
       "<Figure size 640x480 with 1 Axes>"
      ]
     },
     "metadata": {},
     "output_type": "display_data"
    },
    {
     "data": {
      "text/plain": [
       "<Axes: title={'center': 'Stress-Strain Profile'}, xlabel='Strain', ylabel='Stress'>"
      ]
     },
     "execution_count": 180,
     "metadata": {},
     "output_type": "execute_result"
    }
   ],
   "source": [
    "concrete_ultimate.plot_stress_strain()"
   ]
  },
  {
   "cell_type": "code",
   "execution_count": 181,
   "id": "b960a009-15f4-4202-90d6-620897249c0f",
   "metadata": {},
   "outputs": [
    {
     "data": {
      "image/png": "[encoded data removed]",
      "text/plain": [
       "<Figure size 640x480 with 1 Axes>"
      ]
     },
     "metadata": {},
     "output_type": "display_data"
    },
    {
     "data": {
      "text/plain": [
       "<Axes: title={'center': 'Stress-Strain Profile'}, xlabel='Strain', ylabel='Stress'>"
      ]
     },
     "execution_count": 181,
     "metadata": {},
     "output_type": "execute_result"
    }
   ],
   "source": [
    "steel_elastic_plastic.plot_stress_strain()"
   ]
  },
  {
   "cell_type": "code",
   "execution_count": 182,
   "id": "22dd1771-a4a9-4a0a-a26e-618d972f284a",
   "metadata": {},
   "outputs": [],
   "source": [
    "def create_concrete_ACI318(fpc: float, wc: float, eps_cu: float=0.003):\n",
    "    \"\"\"\n",
    "    Returns a concreteproperties concrete material with values\n",
    "    calculated per ACI 318-14.\n",
    "    \n",
    "    Args:\n",
    "    fpc: f'c in ksi\n",
    "    wc: unit weight of concrete in kcf\n",
    "    eps_cu: ultimate crushing strain of concrete \"\"\"\n",
    "\n",
    "    Ec = 33 * ((wc * 1000) ** 1.5) * ((fpc * 1000) ** 0.5) / 1000 # ksi\n",
    "    # only takes compression and stress is linear\n",
    "    concrete_service = ConcreteLinearNoTension(\n",
    "        elastic_modulus=Ec,\n",
    "        ultimate_strain=eps_cu,\n",
    "        compressive_strength=0.85*fpc\n",
    "    )\n",
    "    \n",
    "    # Ultimate stress-strain profile\n",
    "    beta_1 = calculate_beta_1(fpc)\n",
    "    concrete_ultimate = RectangularStressBlock(\n",
    "        compressive_strength=fpc,\n",
    "        alpha=0.85,\n",
    "        gamma=beta_1,\n",
    "        ultimate_strain=eps_cu\n",
    "    \n",
    "    )\n",
    "    \n",
    "    # Define the concrete material\n",
    "    concrete = Concrete(\n",
    "        name=f\"{fpc} ksi Concrete\",\n",
    "        density = wc / (12**3), # ksi\n",
    "        stress_strain_profile=concrete_service,\n",
    "        colour='lightgrey',\n",
    "        ultimate_stress_strain_profile=concrete_ultimate,\n",
    "        flexural_tensile_strength=fr\n",
    "    )\n",
    "    return concrete"
   ]
  },
  {
   "cell_type": "markdown",
   "id": "01b82d17-5f7e-4a52-8fa2-50516d9e0d22",
   "metadata": {},
   "source": [
    "# From module"
   ]
  },
  {
   "cell_type": "code",
   "execution_count": 183,
   "id": "0f044cf3-8683-4a5f-965b-c57a297af558",
   "metadata": {},
   "outputs": [],
   "source": [
    "from eng_module import aci_318_14_materials as aci_matl"
   ]
  },
  {
   "cell_type": "code",
   "execution_count": 184,
   "id": "66af2c6e-8243-451f-b262-d0b79975b416",
   "metadata": {},
   "outputs": [
    {
     "data": {
      "text/plain": [
       "Concrete(name='10 ksi Concrete', density=8.680555555555556e-05, stress_strain_profile=ConcreteLinearNoTension(strains=[-0.001, 0, 0.0014020648359364992, 0.003], stresses=[0, 0, 8.5, 8.5], elastic_modulus=6062.487113388366, ultimate_strain=0.003, compressive_strength=8.5), colour='lightgrey', meshed=True, ultimate_stress_strain_profile=RectangularStressBlock(strains=[0, 0.00105, 0.00105, 0.003], stresses=[0, 0, 8.5, 8.5], compressive_strength=10, alpha=0.85, gamma=0.65, ultimate_strain=0.003), flexural_tensile_strength=0.75)"
      ]
     },
     "execution_count": 184,
     "metadata": {},
     "output_type": "execute_result"
    }
   ],
   "source": [
    "conc = aci_matl.create_concrete_ACI318(10)\n",
    "conc"
   ]
  },
  {
   "cell_type": "code",
   "execution_count": 185,
   "id": "0c55de48-eba4-41ca-97c5-829f9605f5ba",
   "metadata": {},
   "outputs": [
    {
     "data": {
      "text/plain": [
       "SteelBar(name='Grade 60 Rebar', density=0.00028356481481481483, stress_strain_profile=SteelElasticPlastic(strains=[-0.3, -0.0020689655172413794, 0, 0.0020689655172413794, 0.3], stresses=[-60, -60, 0, 60, 60], yield_strength=60, elastic_modulus=29000.0, fracture_strain=0.3), colour='black', meshed=False)"
      ]
     },
     "execution_count": 185,
     "metadata": {},
     "output_type": "execute_result"
    }
   ],
   "source": [
    "steel = aci_matl.create_rebar_ACI318(60)\n",
    "steel"
   ]
  },
  {
   "cell_type": "markdown",
   "id": "8cbd1e42-31c3-4966-ba07-272f70bb456d",
   "metadata": {},
   "source": [
    "# Define Geometry"
   ]
  },
  {
   "cell_type": "code",
   "execution_count": 186,
   "id": "f9395bd5-1ebd-43c1-82ed-a0fd5030ac3a",
   "metadata": {},
   "outputs": [],
   "source": [
    "conc_geom = rectangular_section(24, 14, conc).align_center()"
   ]
  },
  {
   "cell_type": "code",
   "execution_count": 187,
   "id": "f5906e35-6845-4764-83ff-b9a74cc0e6f6",
   "metadata": {},
   "outputs": [
    {
     "name": "stdout",
     "output_type": "stream",
     "text": [
      "sectionproperties.pre.geometry.Geometry\n",
      "object at: 0x14a3fe540\n",
      "Material: 10 ksi Concrete\n"
     ]
    },
    {
     "data": {
      "image/svg+xml": [
       "<svg xmlns=\"http://www.w3.org/2000/svg\" xmlns:xlink=\"http://www.w3.org/1999/xlink\" width=\"100.0\" height=\"100.0\" viewBox=\"-7.96 -12.96 15.92 25.92\" preserveAspectRatio=\"xMinYMin meet\"><g transform=\"matrix(1,0,0,-1,0,0.0)\"><path fill-rule=\"evenodd\" fill=\"#66cc99\" stroke=\"#555555\" stroke-width=\"0.5184000000000001\" opacity=\"0.6\" d=\"M -7.0,-12.0 L 7.0,-12.0 L 7.0,12.0 L -7.0,12.0 L -7.0,-12.0 z\" /></g></svg>"
      ],
      "text/plain": [
       "<sectionproperties.pre.geometry.Geometry at 0x14a3fe540>"
      ]
     },
     "execution_count": 187,
     "metadata": {},
     "output_type": "execute_result"
    }
   ],
   "source": [
    "conc_geom"
   ]
  },
  {
   "cell_type": "code",
   "execution_count": 199,
   "id": "335688e9-68a7-436a-b8c6-d51e62f1e976",
   "metadata": {},
   "outputs": [
    {
     "name": "stdout",
     "output_type": "stream",
     "text": [
      "The autoreload extension is already loaded. To reload it, use:\n",
      "  %reload_ext autoreload\n"
     ]
    }
   ],
   "source": [
    "%load_ext autoreload\n",
    "%autoreload 2"
   ]
  },
  {
   "cell_type": "code",
   "execution_count": 200,
   "id": "9a1abec7-19fa-4ad9-8818-424f5b3b92f7",
   "metadata": {},
   "outputs": [],
   "source": [
    "import ram_column_schedule as rcs\n",
    "import columns"
   ]
  },
  {
   "cell_type": "code",
   "execution_count": 215,
   "id": "8749e4ea-ecef-4357-9601-d9e58dddd3f4",
   "metadata": {},
   "outputs": [
    {
     "data": {
      "text/plain": [
       "(4.75, 6.5)"
      ]
     },
     "execution_count": 215,
     "metadata": {},
     "output_type": "execute_result"
    }
   ],
   "source": [
    "b = 14\n",
    "h = 24\n",
    "cover = 1.5\n",
    "d_tie = .375\n",
    "d_bar = 0.75\n",
    "sx = columns.calc_spacing_per_side(b, 3)\n",
    "sy = columns.calc_spacing_per_side(h, 1)\n",
    "sx, sy"
   ]
  },
  {
   "cell_type": "code",
   "execution_count": 202,
   "id": "850e2274-444c-4399-ac2e-019321c54079",
   "metadata": {},
   "outputs": [],
   "source": [
    "# origin = (0, 0)\n",
    "x1 = -b/2 + cover + d_tie + d_bar / 2\n",
    "y1 = h/2 - cover - d_tie - d_bar /2\n"
   ]
  },
  {
   "cell_type": "code",
   "execution_count": 203,
   "id": "5925e3d8-a211-40c6-a31b-d4afcd2fe5d5",
   "metadata": {},
   "outputs": [
    {
     "data": {
      "text/plain": [
       "(-4.75, 9.75)"
      ]
     },
     "execution_count": 203,
     "metadata": {},
     "output_type": "execute_result"
    }
   ],
   "source": [
    "x1, y1"
   ]
  },
  {
   "cell_type": "code",
   "execution_count": 209,
   "id": "0528f161-f459-49a2-8090-3e75d0423131",
   "metadata": {},
   "outputs": [],
   "source": [
    "def generate_bar_coordinates(b, h, n_bars_b, n_bars_h, cover, d_tie, d_bar):\n",
    "\n",
    "    sx = columns.calculate_spacing_per_side(b, n_bars_b)\n",
    "    sy = columns.calculate_spacing_per_side(h, n_bars_h)\n",
    "\n",
    "    x_coords = []\n",
    "    y_coords = []\n",
    "    x1 = -b/2 + cover + d_tie + d_bar / 2\n",
    "    y1 = h/2 - cover - d_tie - d_bar / 2\n",
    "    # x_coords.append(x1)\n",
    "\n",
    "    # top and bottom coordinates contain the corners!\n",
    "    # top coordinates\n",
    "    for i in range(n_bars_b):\n",
    "        x_coords.append(x1 + i * sx)\n",
    "        y_coords.append(y1)\n",
    "        \n",
    "    # bottom coordinates\n",
    "    for i in range(n_bars_b):\n",
    "        x_coords.append(x1 + i * sx)\n",
    "        y_coords.append(-y1)\n",
    "\n",
    "    # left coordinates\n",
    "    for i in range(1, n_bars_h-1):\n",
    "        x_coords.append(x1)\n",
    "        y_coords.append(y1 - i * sy)\n",
    "\n",
    "    # right coordinates\n",
    "    for i in range(1, n_bars_h-1):\n",
    "        x_coords.append(-x1)\n",
    "        y_coords.append(y1 - i * sy)\n",
    "\n",
    "\n",
    "    return list(zip(x_coords, y_coords))"
   ]
  },
  {
   "cell_type": "code",
   "execution_count": 211,
   "id": "e123f0a9-dc76-4034-8487-c47bff3470c7",
   "metadata": {},
   "outputs": [
    {
     "data": {
      "text/plain": [
       "[[-4.75, 9.75], [4.75, 9.75], [-4.75, -9.75], [4.75, -9.75]]"
      ]
     },
     "execution_count": 211,
     "metadata": {},
     "output_type": "execute_result"
    }
   ],
   "source": [
    "bar_coords = columns.generate_bar_coordinates(14, 24, 2, 1, d_bar=.75)\n",
    "bar_coords"
   ]
  },
  {
   "cell_type": "code",
   "execution_count": 212,
   "id": "37aa35a1-5a4e-46ba-9905-c457932c2644",
   "metadata": {},
   "outputs": [],
   "source": [
    "for bar_coord in bar_coords:\n",
    "    area = 0.44\n",
    "    x, y = bar_coord\n",
    "    conc_geom = add_bar(conc_geom, area, steel, x, y)"
   ]
  },
  {
   "cell_type": "code",
   "execution_count": 216,
   "id": "b564e713-5c8e-4db5-9f93-b88856fca42a",
   "metadata": {},
   "outputs": [
    {
     "data": {
      "image/png": "[encoded data removed]",
      "text/plain": [
       "<Figure size 640x480 with 1 Axes>"
      ]
     },
     "metadata": {},
     "output_type": "display_data"
    },
    {
     "data": {
      "text/plain": [
       "<Axes: title={'center': 'Cross-Section Geometry'}>"
      ]
     },
     "execution_count": 216,
     "metadata": {},
     "output_type": "execute_result"
    }
   ],
   "source": [
    "conc_geom.plot_geometry()"
   ]
  },
  {
   "cell_type": "markdown",
   "id": "d138f121-3c00-4712-a80a-3435f346ef81",
   "metadata": {},
   "source": [
    "# Analysis Section"
   ]
  },
  {
   "cell_type": "code",
   "execution_count": 34,
   "id": "7a3efbb7-5502-4f06-9001-a32cf5501c7c",
   "metadata": {},
   "outputs": [],
   "source": [
    "conc_sec = ConcreteSection(conc_geom)"
   ]
  },
  {
   "cell_type": "code",
   "execution_count": 156,
   "id": "c801b926-475e-4bf7-9a89-958a89e00c1d",
   "metadata": {},
   "outputs": [
    {
     "data": {
      "application/vnd.jupyter.widget-view+json": {
       "model_id": "6e96b6c2055741b9ac24fd097db69d6b",
       "version_major": 2,
       "version_minor": 0
      },
      "text/plain": [
       "Output()"
      ]
     },
     "metadata": {},
     "output_type": "display_data"
    },
    {
     "data": {
      "text/html": [
       "<pre style=\"white-space:pre;overflow-x:auto;line-height:normal;font-family:Menlo,'DejaVu Sans Mono',consolas,'Courier New',monospace\"></pre>\n"
      ],
      "text/plain": []
     },
     "metadata": {},
     "output_type": "display_data"
    }
   ],
   "source": [
    "bending_about_x_int_dia = conc_sec.moment_interaction_diagram(theta=0, n_points=25)"
   ]
  },
  {
   "cell_type": "code",
   "execution_count": 157,
   "id": "6189829b-3049-439a-8abd-ed27b2412f7f",
   "metadata": {},
   "outputs": [
    {
     "data": {
      "text/plain": [
       "[UltimateBendingResults(theta=0, d_n=inf, k_u=inf, n=3082.600409696919, m_x=-1.2789769243681803e-12, m_y=-2.8421709430404007e-13, m_xy=1.3101760682293513e-12, label=None),\n",
       " UltimateBendingResults(theta=0, d_n=24.0, k_u=1.103448275862069, n=1996.9874107105593, m_x=8421.227118502196, m_y=-9.094947017729282e-13, m_xy=8421.227118502196, label=None),\n",
       " UltimateBendingResults(theta=0, d_n=23.000000041666667, k_u=1.0574712662835248, n=1918.5370837481487, m_x=8699.5690715931, m_y=-7.105427357601002e-15, m_xy=8699.5690715931, label=None),\n",
       " UltimateBendingResults(theta=0, d_n=22.000000083333333, k_u=1.011494256704981, n=1833.1052383290507, m_x=8952.532509850727, m_y=5.115907697472721e-13, m_xy=8952.532509850727, label=None),\n",
       " UltimateBendingResults(theta=0, d_n=21.000000125, k_u=0.9655172471264367, n=1746.3716504171928, m_x=9161.512251452938, m_y=-1.4210854715202004e-14, m_xy=9161.512251452938, label=None),\n",
       " UltimateBendingResults(theta=0, d_n=20.000000166666666, k_u=0.9195402375478927, n=1658.6997037610672, m_x=9325.835841934311, m_y=1.6342482922482304e-13, m_xy=9325.835841934311, label=None),\n",
       " UltimateBendingResults(theta=0, d_n=19.000000208333333, k_u=0.8735632279693486, n=1569.9412364614825, m_x=9446.390862650096, m_y=-2.7000623958883807e-13, m_xy=9446.390862650096, label=None),\n",
       " UltimateBendingResults(theta=0, d_n=18.00000025, k_u=0.8275862183908046, n=1479.9151617545879, m_x=9524.262135245754, m_y=-2.8066438062523957e-13, m_xy=9524.262135245754, label=None),\n",
       " UltimateBendingResults(theta=0, d_n=17.000000291666666, k_u=0.7816092088122605, n=1388.3977842287247, m_x=9560.789733503621, m_y=-1.7408297026122455e-13, m_xy=9560.789733503621, label=None),\n",
       " UltimateBendingResults(theta=0, d_n=16.000000333333332, k_u=0.7356321992337165, n=1295.1094846228107, m_x=9557.648749630662, m_y=-8.01136934569513e-13, m_xy=9557.648749630662, label=None),\n",
       " UltimateBendingResults(theta=0, d_n=15.000000375, k_u=0.6896551896551725, n=1199.696078544448, m_x=9516.960967059256, m_y=-4.476419235288631e-13, m_xy=9516.960967059256, label=None),\n",
       " UltimateBendingResults(theta=0, d_n=14.000000416666667, k_u=0.6436781800766284, n=1101.9430930297706, m_x=9442.14346385723, m_y=1.7053025658242404e-13, m_xy=9442.14346385723, label=None),\n",
       " UltimateBendingResults(theta=0, d_n=13.000000458333334, k_u=0.5977011704980844, n=1007.5265455394635, m_x=9357.254579955814, m_y=-3.410605131648481e-13, m_xy=9357.254579955814, label=None),\n",
       " UltimateBendingResults(theta=0, d_n=12.872448979591836, k_u=0.5918367346938775, n=994.7157533907546, m_x=9342.906539859829, m_y=-3.979039320256561e-13, m_xy=9342.906539859829, label=None),\n",
       " UltimateBendingResults(theta=0, d_n=12.0000005, k_u=0.5517241609195402, n=916.979986094047, m_x=9088.205332579562, m_y=2.7000623958883807e-13, m_xy=9088.205332579562, label=None),\n",
       " UltimateBendingResults(theta=0, d_n=11.000000541666667, k_u=0.5057471513409962, n=825.7099627718919, m_x=8750.44910310792, m_y=-7.105427357601002e-14, m_xy=8750.44910310792, label=None),\n",
       " UltimateBendingResults(theta=0, d_n=10.000000583333334, k_u=0.4597701417624521, n=731.6559350637058, m_x=8364.865877496895, m_y=-7.105427357601002e-14, m_xy=8364.865877496895, label=None),\n",
       " UltimateBendingResults(theta=0, d_n=9.000000625, k_u=0.41379313218390806, n=634.256559931385, m_x=7931.080850733356, m_y=-1.2789769243681803e-13, m_xy=7931.080850733356, label=None),\n",
       " UltimateBendingResults(theta=0, d_n=8.000000666666667, k_u=0.367816122605364, n=547.6023782517623, m_x=7400.001010274582, m_y=0.0, m_xy=7400.001010274582, label=None),\n",
       " UltimateBendingResults(theta=0, d_n=7.000000708333335, k_u=0.32183911302682, n=457.01700362018283, m_x=6797.593730613646, m_y=0.0, m_xy=6797.593730613646, label=None),\n",
       " UltimateBendingResults(theta=0, d_n=6.000000750000002, k_u=0.27586210344827594, n=357.56482672219073, m_x=6084.376415534367, m_y=4.263256414560601e-14, m_xy=6084.376415534367, label=None),\n",
       " UltimateBendingResults(theta=0, d_n=5.000000791666668, k_u=0.22988509386973188, n=253.8918869726839, m_x=5291.1691828224075, m_y=-1.7053025658242404e-13, m_xy=5291.1691828224075, label=None),\n",
       " UltimateBendingResults(theta=0, d_n=4.000000833333335, k_u=0.1839080842911878, n=163.98372326132915, m_x=4466.635100933265, m_y=0.0, m_xy=4466.635100933265, label=None),\n",
       " UltimateBendingResults(theta=0, d_n=3.0000008750000013, k_u=0.13793107471264374, n=75.23118574358068, m_x=3603.1128392164774, m_y=0.0, m_xy=3603.1128392164774, label=None),\n",
       " UltimateBendingResults(theta=0, d_n=2.334561568877818, k_u=0.10733616408633646, n=-0.06230239020084838, m_x=2842.6878077239535, m_y=0.0, m_xy=2842.6878077239535, label=None),\n",
       " UltimateBendingResults(theta=0, d_n=2.000000916666668, k_u=0.09195406513409968, n=-44.45518186140596, m_x=2388.086743740032, m_y=0.0, m_xy=2388.086743740032, label=None),\n",
       " UltimateBendingResults(theta=0, d_n=1.0000009583333345, k_u=0.045977055555555604, n=-186.6503583168, m_x=903.0626006499397, m_y=0.0, m_xy=903.0626006499397, label=None),\n",
       " UltimateBendingResults(theta=0, d_n=1e-06, k_u=4.597701149425287e-08, n=-264.0004178168, m_x=0.000713999986288627, m_y=-4.627777775567665e-05, m_xy=0.0007154981573240866, label=None)]"
      ]
     },
     "execution_count": 157,
     "metadata": {},
     "output_type": "execute_result"
    }
   ],
   "source": [
    "bending_about_x_int_dia.results"
   ]
  },
  {
   "cell_type": "code",
   "execution_count": 136,
   "id": "9e1e571e-d2e0-49d0-8ad2-19afba42e1fb",
   "metadata": {},
   "outputs": [],
   "source": [
    "def calculate_phi(tensile_strains: list[float], fy: float = 60, Es: float = 29000, reinf_type: str = 'other') -> list[float]:\n",
    "    tensile_yield_strain = fy / Es\n",
    "    phis = []\n",
    "    if reinf_type == 'other':\n",
    "        for ts in tensile_strains:\n",
    "            if ts <= tensile_yield_strain:\n",
    "                phi = 0.65\n",
    "                phis.append(phi)\n",
    "            elif ts > tensile_yield_strain and ts < 0.005:\n",
    "                phi = 0.65 + 0.25 * (ts - tensile_yield_strain) / (0.005 - tensile_yield_strain)\n",
    "                phis.append(phi)\n",
    "            elif ts >= 0.005:\n",
    "                phi = 0.9\n",
    "                phis.append(phi)\n",
    "    else:\n",
    "        print(\"Spiral ties not yet implemented!\")\n",
    "    return phis"
   ]
  },
  {
   "cell_type": "code",
   "execution_count": 137,
   "id": "234e46d3-120b-4bca-a8d6-429285292d0a",
   "metadata": {},
   "outputs": [
    {
     "data": {
      "text/plain": [
       "[-0.0030000000000000005,\n",
       " -0.0002801450589301902,\n",
       " -0.00016177861873226115,\n",
       " -3.264094955489599e-05,\n",
       " 0.00010559006211180134,\n",
       " 0.0002608695652173914,\n",
       " 0.0004324942791762014,\n",
       " 0.0006231884057971015,\n",
       " 0.0008363171355498722,\n",
       " 0.0010760869565217392,\n",
       " 0.001347826086956522,\n",
       " 0.0016583850931677021,\n",
       " 0.002016722408026756,\n",
       " 0.0020675675675675682,\n",
       " 0.0024347826086956515,\n",
       " 0.002928853754940712,\n",
       " 0.0035217391304347826,\n",
       " 0.004246376811594203,\n",
       " 0.005152173913043479,\n",
       " 0.006316770186335404,\n",
       " 0.007869565217391303,\n",
       " 0.010043478260869567,\n",
       " 0.013304347826086957,\n",
       " 0.018739130434782605,\n",
       " 0.025037383177570094,\n",
       " 0.029608695652173913,\n",
       " 0.06221739130434783,\n",
       " 0.1]"
      ]
     },
     "execution_count": 137,
     "metadata": {},
     "output_type": "execute_result"
    }
   ],
   "source": [
    "tensile_strains = []\n",
    "n = []\n",
    "m_x = []\n",
    "m_y = []\n",
    "for result in bending_about_x_int_dia.results:\n",
    "\n",
    "    dn = round(result.d_n, 3)\n",
    "    if dn > 24: # REPLACE WITH LARGEST COLUMN DIM IN DIRECTION OF ANALYSIS\n",
    "        dn = 24 # REPLACE WITH LARGEST COLUMN DIM IN DIRECTION OF ANALYSIS\n",
    "    ku = round(result.k_u, 3)\n",
    "    if dn > 0.1:\n",
    "        tensile_strain = 0.003 * (dn/ku - dn)/dn\n",
    "    else:\n",
    "        tensile_strain = .1 # ARBITRARILY LARGE STRAIN\n",
    "    tensile_strains.append(tensile_strain)\n",
    "\n",
    "    n.append(result.n)\n",
    "    m_x.append(result.m_x)\n",
    "    m_y.append(result.m_y)\n",
    "tensile_strains"
   ]
  },
  {
   "cell_type": "code",
   "execution_count": 138,
   "id": "7607a3b1-a267-4421-9e8b-553a26106adb",
   "metadata": {},
   "outputs": [
    {
     "data": {
      "text/plain": [
       "[0.65,\n",
       " 0.65,\n",
       " 0.65,\n",
       " 0.65,\n",
       " 0.65,\n",
       " 0.65,\n",
       " 0.65,\n",
       " 0.65,\n",
       " 0.65,\n",
       " 0.65,\n",
       " 0.65,\n",
       " 0.65,\n",
       " 0.65,\n",
       " 0.65,\n",
       " 0.6812020460358056,\n",
       " 0.723343408509649,\n",
       " 0.7739130434782608,\n",
       " 0.8357203751065644,\n",
       " 0.9,\n",
       " 0.9,\n",
       " 0.9,\n",
       " 0.9,\n",
       " 0.9,\n",
       " 0.9,\n",
       " 0.9,\n",
       " 0.9,\n",
       " 0.9,\n",
       " 0.9]"
      ]
     },
     "execution_count": 138,
     "metadata": {},
     "output_type": "execute_result"
    }
   ],
   "source": [
    "phis = calculate_phi(tensile_strains)\n",
    "phis"
   ]
  },
  {
   "cell_type": "code",
   "execution_count": 139,
   "id": "1c603e04-5477-42f2-b2f5-9db0c45ccab4",
   "metadata": {},
   "outputs": [],
   "source": [
    "import numpy as np"
   ]
  },
  {
   "cell_type": "code",
   "execution_count": 140,
   "id": "1ef75845-6aa8-4161-906f-aceee646e4c9",
   "metadata": {},
   "outputs": [],
   "source": [
    "m_x = np.asarray(m_x)\n",
    "m_y = np.asarray(m_y)\n",
    "n = np.asarray(n)"
   ]
  },
  {
   "cell_type": "code",
   "execution_count": 218,
   "id": "2efc8041-423b-44c8-8bfa-0ed9026c20d1",
   "metadata": {},
   "outputs": [
    {
     "data": {
      "text/plain": [
       "numpy.ndarray"
      ]
     },
     "execution_count": 218,
     "metadata": {},
     "output_type": "execute_result"
    }
   ],
   "source": [
    "type(n)"
   ]
  },
  {
   "cell_type": "code",
   "execution_count": 217,
   "id": "70b01231-8411-4e7c-ae5e-f26641b8a02e",
   "metadata": {},
   "outputs": [
    {
     "data": {
      "text/plain": [
       "list"
      ]
     },
     "execution_count": 217,
     "metadata": {},
     "output_type": "execute_result"
    }
   ],
   "source": [
    "type(phis)"
   ]
  },
  {
   "cell_type": "code",
   "execution_count": 141,
   "id": "160b1d7d-11d3-434c-be9c-9aff1b617c0c",
   "metadata": {},
   "outputs": [
    {
     "data": {
      "text/plain": [
       "array([ 2.00369027e+03,  1.29804182e+03,  1.24704910e+03,  1.19151840e+03,\n",
       "        1.13514157e+03,  1.07815481e+03,  1.02046180e+03,  9.61944855e+02,\n",
       "        9.02458560e+02,  8.41821165e+02,  7.79802451e+02,  7.16263010e+02,\n",
       "        6.54892255e+02,  6.46565240e+02,  6.24648643e+02,  5.97271859e+02,\n",
       "        5.66238071e+02,  5.30061130e+02,  4.92842140e+02,  4.11315303e+02,\n",
       "        3.21808344e+02,  2.28502698e+02,  1.47585351e+02,  6.77080672e+01,\n",
       "       -5.60721512e-02, -4.00096637e+01, -1.67985322e+02, -2.37600376e+02])"
      ]
     },
     "execution_count": 141,
     "metadata": {},
     "output_type": "execute_result"
    }
   ],
   "source": [
    "phi_Pn = phis * n\n",
    "phi_Pn"
   ]
  },
  {
   "cell_type": "code",
   "execution_count": 148,
   "id": "f34c2848-25f7-4b6f-a6a0-f8c577839538",
   "metadata": {},
   "outputs": [
    {
     "data": {
      "text/plain": [
       "array([-6.92779167e-14,  4.56149802e+02,  4.71226658e+02,  4.84928844e+02,\n",
       "        4.96248580e+02,  5.05149441e+02,  5.11679505e+02,  5.15897532e+02,\n",
       "        5.17876111e+02,  5.17705974e+02,  5.15502052e+02,  5.11449438e+02,\n",
       "        5.06851290e+02,  5.06074104e+02,  5.15908672e+02,  5.27464973e+02,\n",
       "        5.39473234e+02,  5.52347155e+02,  5.55000076e+02,  5.09819530e+02,\n",
       "        4.56328231e+02,  3.96837689e+02,  3.34997633e+02,  2.70233463e+02,\n",
       "        2.13201586e+02,  1.79106506e+02,  6.77296950e+01,  5.35499990e-05])"
      ]
     },
     "execution_count": 148,
     "metadata": {},
     "output_type": "execute_result"
    }
   ],
   "source": [
    "phi_Mn_x = phis * m_x\n",
    "phi_Mn_x/12"
   ]
  },
  {
   "cell_type": "code",
   "execution_count": 143,
   "id": "01068954-af99-4f6f-8fa6-7decc61a5015",
   "metadata": {},
   "outputs": [
    {
     "data": {
      "text/plain": [
       "array([-1.84741111e-13, -5.91171556e-13, -4.61852778e-15,  3.32534000e-13,\n",
       "       -9.23705556e-15,  1.06226139e-13, -1.75504056e-13, -1.82431847e-13,\n",
       "       -1.13153931e-13, -5.20739007e-13, -2.90967250e-13,  1.10844667e-13,\n",
       "       -2.21689334e-13, -2.58637556e-13,  1.83928803e-13, -5.13966404e-14,\n",
       "       -5.49898291e-14, -1.06886707e-13,  0.00000000e+00,  0.00000000e+00,\n",
       "        3.83693077e-14, -1.53477231e-13,  0.00000000e+00,  0.00000000e+00,\n",
       "        0.00000000e+00,  0.00000000e+00,  0.00000000e+00, -4.16500000e-05])"
      ]
     },
     "execution_count": 143,
     "metadata": {},
     "output_type": "execute_result"
    }
   ],
   "source": [
    "phi_Mn_y = phis * m_y\n",
    "phi_Mn_y"
   ]
  },
  {
   "cell_type": "code",
   "execution_count": 144,
   "id": "0fddea69-9c45-4099-b5d0-60006d52f346",
   "metadata": {},
   "outputs": [],
   "source": [
    "import matplotlib.pyplot as plt"
   ]
  },
  {
   "cell_type": "code",
   "execution_count": 145,
   "id": "70c1dc5c-e278-464c-9535-83d94d74c5fd",
   "metadata": {},
   "outputs": [
    {
     "data": {
      "text/plain": [
       "1579.3855999999998"
      ]
     },
     "execution_count": 145,
     "metadata": {},
     "output_type": "execute_result"
    }
   ],
   "source": [
    "phi_Pn_max = 0.65 * 0.8 * (\n",
    "    0.85 * 10 * (14 * 24 - 8 * 0.44) + 60 * 8 * 0.44\n",
    ")\n",
    "phi_Pn_max"
   ]
  },
  {
   "cell_type": "code",
   "execution_count": 146,
   "id": "f9d9fe76-fe56-48ab-b54a-03cc0c2773db",
   "metadata": {},
   "outputs": [],
   "source": [
    "adjusted_phi_Pns = []\n",
    "for p in phi_Pn:\n",
    "    if p >= phi_Pn_max:\n",
    "        adjusted_phi_Pns.append(phi_Pn_max)\n",
    "    else:\n",
    "        adjusted_phi_Pns.append(p)"
   ]
  },
  {
   "cell_type": "code",
   "execution_count": 149,
   "id": "1e875390-1334-4d10-a432-befcc40b158c",
   "metadata": {},
   "outputs": [
    {
     "data": {
      "text/plain": [
       "[1579.3855999999998,\n",
       " 1298.0418169618636,\n",
       " 1247.0491044362966,\n",
       " 1191.518404913883,\n",
       " 1135.1415727711753,\n",
       " 1078.1548074446937,\n",
       " 1020.4618036999636,\n",
       " 961.9448551404821,\n",
       " 902.4585597486711,\n",
       " 841.821165004827,\n",
       " 779.8024510538912,\n",
       " 716.2630104693509,\n",
       " 654.8922546006513,\n",
       " 646.5652397039905,\n",
       " 624.6486427011494,\n",
       " 597.2718589117957,\n",
       " 566.2380714840854,\n",
       " 530.0611301796562,\n",
       " 492.84214042658607,\n",
       " 411.31530325816453,\n",
       " 321.80834404997165,\n",
       " 228.5026982754155,\n",
       " 147.58535093519623,\n",
       " 67.70806716922262,\n",
       " -0.056072151180763544,\n",
       " -40.009663675265365,\n",
       " -167.98532248512,\n",
       " -237.60037603512]"
      ]
     },
     "execution_count": 149,
     "metadata": {},
     "output_type": "execute_result"
    }
   ],
   "source": [
    "adjusted_phi_Pns"
   ]
  },
  {
   "cell_type": "code",
   "execution_count": 153,
   "id": "be60d250-7e51-4e89-aae3-45f5ade6c95c",
   "metadata": {},
   "outputs": [
    {
     "data": {
      "image/png": "[encoded data removed]",
      "text/plain": [
       "<Figure size 640x480 with 1 Axes>"
      ]
     },
     "metadata": {},
     "output_type": "display_data"
    }
   ],
   "source": [
    "plt.plot(phi_Mn_x/12, phi_Pn, '-o')\n",
    "plt.axhline(phi_Pn_max)\n",
    "plt.grid()\n",
    "plt.show()"
   ]
  },
  {
   "cell_type": "code",
   "execution_count": null,
   "id": "257465d2-b998-404d-a136-d5dc2cd8a91a",
   "metadata": {},
   "outputs": [],
   "source": []
  },
  {
   "cell_type": "code",
   "execution_count": 76,
   "id": "79471e38-1472-424b-8ae1-51ff67830c7d",
   "metadata": {},
   "outputs": [
    {
     "data": {
      "image/png": "[encoded data removed]",
      "text/plain": [
       "<Figure size 640x480 with 1 Axes>"
      ]
     },
     "metadata": {},
     "output_type": "display_data"
    },
    {
     "data": {
      "text/plain": [
       "<Axes: title={'center': 'Moment Interaction Diagram'}, xlabel='Bending Moment', ylabel='Axial Force'>"
      ]
     },
     "execution_count": 76,
     "metadata": {},
     "output_type": "execute_result"
    }
   ],
   "source": [
    "bending_about_x_int_dia.plot_diagram(n_scale=1, m_scale=1/12, labels=True)"
   ]
  },
  {
   "cell_type": "code",
   "execution_count": null,
   "id": "d42178e3-3f48-4759-90c9-c441872945af",
   "metadata": {},
   "outputs": [],
   "source": []
  }
 ],
 "metadata": {
  "kernelspec": {
   "display_name": "Python 3 (pfse)",
   "language": "python",
   "name": "pfse"
  },
  "language_info": {
   "codemirror_mode": {
    "name": "ipython",
    "version": 3
   },
   "file_extension": ".py",
   "mimetype": "text/x-python",
   "name": "python",
   "nbconvert_exporter": "python",
   "pygments_lexer": "ipython3",
   "version": "3.12.3"
  }
 },
 "nbformat": 4,
 "nbformat_minor": 5
}
